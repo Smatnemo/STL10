{
 "cells": [
  {
   "cell_type": "markdown",
   "id": "4f9b4436",
   "metadata": {},
   "source": [
    "## Classification"
   ]
  },
  {
   "cell_type": "markdown",
   "id": "87dcd62f",
   "metadata": {},
   "source": [
    "### Using Multinomial Naive Bayes Classifier"
   ]
  },
  {
   "cell_type": "code",
   "execution_count": 17,
   "id": "723fc631",
   "metadata": {},
   "outputs": [
    {
     "data": {
      "text/plain": [
       "MultinomialNB()"
      ]
     },
     "execution_count": 17,
     "metadata": {},
     "output_type": "execute_result"
    }
   ],
   "source": [
    "from sklearn.naive_bayes import MultinomialNB\n",
    "from sklearn import metrics\n",
    "mnb = MultinomialNB()\n",
    "mnb.fit(train_images, train_y)"
   ]
  },
  {
   "cell_type": "code",
   "execution_count": 18,
   "id": "135d50f4",
   "metadata": {},
   "outputs": [],
   "source": [
    "m_y_pred = mnb.predict(test_images)"
   ]
  },
  {
   "cell_type": "code",
   "execution_count": 19,
   "id": "c59112fa",
   "metadata": {},
   "outputs": [
    {
     "name": "stdout",
     "output_type": "stream",
     "text": [
      "Accuracy: 0.2566\n"
     ]
    }
   ],
   "source": [
    "print(\"Accuracy:\", metrics.accuracy_score(test_y, m_y_pred))"
   ]
  },
  {
   "cell_type": "markdown",
   "id": "6dae7f62",
   "metadata": {},
   "source": [
    "### Using Gaussian Naive Bayes Classifiers"
   ]
  },
  {
   "cell_type": "code",
   "execution_count": 20,
   "id": "f892ac4b",
   "metadata": {},
   "outputs": [
    {
     "data": {
      "text/plain": [
       "GaussianNB()"
      ]
     },
     "execution_count": 20,
     "metadata": {},
     "output_type": "execute_result"
    }
   ],
   "source": [
    "from sklearn.naive_bayes import GaussianNB\n",
    "\n",
    "gnb = GaussianNB()\n",
    "gnb.fit(train_images, train_y)\n"
   ]
  },
  {
   "cell_type": "code",
   "execution_count": 21,
   "id": "c4b62ca0",
   "metadata": {},
   "outputs": [],
   "source": [
    "y_pred = gnb.predict(test_images)"
   ]
  },
  {
   "cell_type": "code",
   "execution_count": 22,
   "id": "03eb0735",
   "metadata": {},
   "outputs": [
    {
     "name": "stdout",
     "output_type": "stream",
     "text": [
      "Accuracy: 0.3078\n"
     ]
    }
   ],
   "source": [
    "from sklearn import metrics\n",
    "print(\"Accuracy:\",metrics.accuracy_score(test_y, y_pred))"
   ]
  },
  {
   "cell_type": "markdown",
   "id": "a403160b",
   "metadata": {},
   "source": [
    "### Random Classifier"
   ]
  },
  {
   "cell_type": "code",
   "execution_count": 23,
   "id": "66e177fe",
   "metadata": {},
   "outputs": [
    {
     "data": {
      "text/plain": [
       "DummyClassifier()"
      ]
     },
     "execution_count": 23,
     "metadata": {},
     "output_type": "execute_result"
    }
   ],
   "source": [
    "from sklearn.dummy import DummyClassifier\n",
    "dmy_clf = DummyClassifier()\n",
    "dmy_clf.fit(train_images, train_y)"
   ]
  },
  {
   "cell_type": "code",
   "execution_count": 24,
   "id": "211a34f1",
   "metadata": {},
   "outputs": [],
   "source": [
    "y_probas_dmy = dmy_clf.predict(test_images)"
   ]
  },
  {
   "cell_type": "code",
   "execution_count": 25,
   "id": "fb98881f",
   "metadata": {},
   "outputs": [
    {
     "name": "stdout",
     "output_type": "stream",
     "text": [
      "Accuracy: 0.1\n"
     ]
    }
   ],
   "source": [
    "print(\"Accuracy:\", metrics.accuracy_score(test_y, y_probas_dmy))"
   ]
  },
  {
   "cell_type": "markdown",
   "id": "cee2a958",
   "metadata": {},
   "source": [
    "The Gaussian Naive Bayes has about 30 percent and the Multinomial Naive Bayes has accuracy of 25.7 percent while a random classifier has about 10 percent accuracy. Both Gaussian and Multinomial Naive Bayes Classifiers perform quite poorly on the data set"
   ]
  },
  {
   "cell_type": "markdown",
   "id": "c9e04ba3",
   "metadata": {},
   "source": [
    "### Kappa"
   ]
  },
  {
   "cell_type": "markdown",
   "id": "ebc6fe2c",
   "metadata": {},
   "source": [
    "## Evaluation Metrics"
   ]
  },
  {
   "cell_type": "markdown",
   "id": "9bf42c03",
   "metadata": {},
   "source": [
    "### Confusion Matrix"
   ]
  },
  {
   "cell_type": "code",
   "execution_count": 70,
   "id": "3c192e93",
   "metadata": {},
   "outputs": [
    {
     "data": {
      "text/plain": [
       "array([[264,   5,  18,  24,  86,  15,   9,   8,  62,   9],\n",
       "       [133,  34,  61,  39, 134,  13,  29,  36,   7,  14],\n",
       "       [ 24,   5, 261,  22,   8,  12,  21,  10,  47,  90],\n",
       "       [ 66,  17,  59,  72, 145,  22,  35,  44,  26,  14],\n",
       "       [ 85,   9,  30,  57, 229,  13,  21,  35,  13,   8],\n",
       "       [ 94,  24,  48,  49, 121,  40,  58,  31,  17,  18],\n",
       "       [ 67,  12,  46,  23, 100,  51, 142,  23,  15,  21],\n",
       "       [ 50,  30,  57,  49, 130,  29,  34,  91,  12,  18],\n",
       "       [ 71,   6,  53,  20,  22,   3,   4,  12, 266,  43],\n",
       "       [ 41,   7, 129,  12,  20,  17,  24,  18,  92, 140]], dtype=int64)"
      ]
     },
     "execution_count": 70,
     "metadata": {},
     "output_type": "execute_result"
    }
   ],
   "source": [
    "from sklearn.metrics import confusion_matrix\n",
    "\n",
    "confusion_matrix(test_y, y_pred)"
   ]
  },
  {
   "cell_type": "markdown",
   "id": "0b706abc",
   "metadata": {},
   "source": [
    "Confusion matrix assuming the classifier was perfect"
   ]
  },
  {
   "cell_type": "code",
   "execution_count": 94,
   "id": "6b359861",
   "metadata": {},
   "outputs": [
    {
     "data": {
      "text/plain": [
       "array([[500,   0,   0,   0,   0,   0,   0,   0,   0,   0],\n",
       "       [  0, 500,   0,   0,   0,   0,   0,   0,   0,   0],\n",
       "       [  0,   0, 500,   0,   0,   0,   0,   0,   0,   0],\n",
       "       [  0,   0,   0, 500,   0,   0,   0,   0,   0,   0],\n",
       "       [  0,   0,   0,   0, 500,   0,   0,   0,   0,   0],\n",
       "       [  0,   0,   0,   0,   0, 500,   0,   0,   0,   0],\n",
       "       [  0,   0,   0,   0,   0,   0, 500,   0,   0,   0],\n",
       "       [  0,   0,   0,   0,   0,   0,   0, 500,   0,   0],\n",
       "       [  0,   0,   0,   0,   0,   0,   0,   0, 500,   0],\n",
       "       [  0,   0,   0,   0,   0,   0,   0,   0,   0, 500]], dtype=int64)"
      ]
     },
     "execution_count": 94,
     "metadata": {},
     "output_type": "execute_result"
    }
   ],
   "source": [
    "y_train_perfect_predictions = test_y  # pretend we reached perfection\n",
    "confusion_matrix(test_y, y_train_perfect_predictions)"
   ]
  },
  {
   "cell_type": "markdown",
   "id": "f14e793c",
   "metadata": {},
   "source": [
    "From comparing both confusion matrices, only classes 1, 3 and 9 have above 50% precision. The rest all have below 50% precision"
   ]
  },
  {
   "cell_type": "markdown",
   "id": "86d73f38",
   "metadata": {},
   "source": [
    "Confusion matrix for Random Classifier"
   ]
  },
  {
   "cell_type": "code",
   "execution_count": 165,
   "id": "71f77143",
   "metadata": {},
   "outputs": [
    {
     "data": {
      "text/plain": [
       "array([[500,   0,   0,   0,   0,   0,   0,   0,   0,   0],\n",
       "       [500,   0,   0,   0,   0,   0,   0,   0,   0,   0],\n",
       "       [500,   0,   0,   0,   0,   0,   0,   0,   0,   0],\n",
       "       [500,   0,   0,   0,   0,   0,   0,   0,   0,   0],\n",
       "       [500,   0,   0,   0,   0,   0,   0,   0,   0,   0],\n",
       "       [500,   0,   0,   0,   0,   0,   0,   0,   0,   0],\n",
       "       [500,   0,   0,   0,   0,   0,   0,   0,   0,   0],\n",
       "       [500,   0,   0,   0,   0,   0,   0,   0,   0,   0],\n",
       "       [500,   0,   0,   0,   0,   0,   0,   0,   0,   0],\n",
       "       [500,   0,   0,   0,   0,   0,   0,   0,   0,   0]], dtype=int64)"
      ]
     },
     "execution_count": 165,
     "metadata": {},
     "output_type": "execute_result"
    }
   ],
   "source": [
    "# pretend we reached perfection\n",
    "confusion_matrix(test_y, y_probas_dmy)"
   ]
  },
  {
   "cell_type": "code",
   "execution_count": null,
   "id": "cfb87b98",
   "metadata": {},
   "outputs": [],
   "source": [
    "\n"
   ]
  },
  {
   "cell_type": "markdown",
   "id": "601c32f0",
   "metadata": {},
   "source": [
    "### Precision and Recall"
   ]
  },
  {
   "cell_type": "markdown",
   "id": "3b685722",
   "metadata": {},
   "source": [
    "Precision"
   ]
  },
  {
   "cell_type": "code",
   "execution_count": 26,
   "id": "c0a33c1e",
   "metadata": {},
   "outputs": [
    {
     "data": {
      "text/plain": [
       "0.3001066275057857"
      ]
     },
     "execution_count": 26,
     "metadata": {},
     "output_type": "execute_result"
    }
   ],
   "source": [
    "from sklearn.metrics import precision_score, recall_score\n",
    "\n",
    "precision_score(test_y, y_pred, average='macro')"
   ]
  },
  {
   "cell_type": "markdown",
   "id": "62dd91de",
   "metadata": {},
   "source": [
    "Recall"
   ]
  },
  {
   "cell_type": "code",
   "execution_count": 27,
   "id": "21d65e4e",
   "metadata": {},
   "outputs": [
    {
     "data": {
      "text/plain": [
       "0.3078"
      ]
     },
     "execution_count": 27,
     "metadata": {},
     "output_type": "execute_result"
    }
   ],
   "source": [
    "recall_score(test_y, y_pred, average='micro')"
   ]
  },
  {
   "cell_type": "markdown",
   "id": "fd645088",
   "metadata": {},
   "source": [
    "F1 Score"
   ]
  },
  {
   "cell_type": "code",
   "execution_count": 28,
   "id": "7ca83cc3",
   "metadata": {},
   "outputs": [
    {
     "data": {
      "text/plain": [
       "0.28536229813124125"
      ]
     },
     "execution_count": 28,
     "metadata": {},
     "output_type": "execute_result"
    }
   ],
   "source": [
    "from sklearn.metrics import f1_score\n",
    "f1_score(test_y, y_pred, average = 'macro')"
   ]
  },
  {
   "cell_type": "markdown",
   "id": "9651296a",
   "metadata": {},
   "source": [
    "### Conclusion"
   ]
  },
  {
   "cell_type": "markdown",
   "id": "f977e6cb",
   "metadata": {},
   "source": [
    "Naive Bayes is not a very good classifier for this task"
   ]
  },
  {
   "cell_type": "code",
   "execution_count": null,
   "id": "4e960787",
   "metadata": {},
   "outputs": [],
   "source": []
  },
  {
   "cell_type": "markdown",
   "id": "ffcc3c9f",
   "metadata": {},
   "source": [
    "## Selecting K Best Features From Classes"
   ]
  },
  {
   "cell_type": "markdown",
   "id": "372d24db",
   "metadata": {},
   "source": [
    "Selecting The Best Two Features Per Class"
   ]
  },
  {
   "cell_type": "code",
   "execution_count": 29,
   "id": "9a8077ca",
   "metadata": {},
   "outputs": [
    {
     "name": "stdout",
     "output_type": "stream",
     "text": [
      "      Specs       Score\n",
      "9122   9122  346.028062\n",
      "9123   9123  344.975553\n",
      "9121   9121  343.666246\n",
      "9214   9214  341.153365\n",
      "9139   9139  340.264556\n",
      "9160   9160  340.188378\n",
      "9120   9120  339.776143\n",
      "9169   9169  339.616227\n",
      "9213   9213  339.530146\n",
      "9138   9138  339.481696\n"
     ]
    }
   ],
   "source": [
    "import pandas as pd\n",
    "import numpy as np\n",
    "from sklearn.feature_selection import SelectKBest\n",
    "from sklearn.feature_selection import chi2\n",
    "\n",
    "X=pd.DataFrame(train_images)\n",
    "x=pd.DataFrame(test_images)\n",
    "#apply SelectKBest class to extract top 2 best features\n",
    "bestfeatures2 = SelectKBest(score_func=chi2, k=20).fit(X,train_y)\n",
    "dfscores = pd.DataFrame(bestfeatures2.scores_)\n",
    "dfcolumns = pd.DataFrame(X.columns)\n",
    "#concat two dataframes for better visualization \n",
    "featureScores2 = pd.concat([dfcolumns,dfscores],axis=1)\n",
    "featureScores2.columns = ['Specs','Score']  #naming the dataframe columns\n",
    "print(featureScores2.nlargest(10,'Score'))  #print 10 best features"
   ]
  },
  {
   "cell_type": "code",
   "execution_count": 30,
   "id": "abffa6be",
   "metadata": {},
   "outputs": [
    {
     "name": "stdout",
     "output_type": "stream",
     "text": [
      "[[0.67058824 0.67843137 0.68235294 ... 0.69411765 0.56078431 0.54117647]\n",
      " [0.55686275 0.61960784 0.41568627 ... 0.50196078 0.61568627 0.62745098]\n",
      " [0.71372549 0.71372549 0.71372549 ... 0.71372549 0.6627451  0.65490196]\n",
      " ...\n",
      " [0.49411765 0.49803922 0.49803922 ... 0.38039216 0.49411765 0.48627451]\n",
      " [0.         0.         0.         ... 0.         0.         0.        ]\n",
      " [0.50588235 0.52941176 0.5372549  ... 0.56862745 0.56078431 0.54509804]] (8000, 20)\n"
     ]
    }
   ],
   "source": [
    "X_train_best_2 = bestfeatures2.transform(X)\n",
    "X_test_best_2 = bestfeatures2.transform(x)\n",
    "print(X_train_best_2, X_train_best_2.shape)\n"
   ]
  },
  {
   "cell_type": "markdown",
   "id": "bd681a67",
   "metadata": {},
   "source": [
    "### Using Naive Bayes Classifier"
   ]
  },
  {
   "cell_type": "code",
   "execution_count": 31,
   "id": "2b1020fc",
   "metadata": {},
   "outputs": [],
   "source": [
    "from sklearn.naive_bayes import GaussianNB\n",
    "gnb = GaussianNB()\n",
    "gnb.fit(X_train_best_2, train_y)\n",
    "y_pred_2 = gnb.predict(X_test_best_2)"
   ]
  },
  {
   "cell_type": "code",
   "execution_count": 32,
   "id": "15952704",
   "metadata": {},
   "outputs": [
    {
     "name": "stdout",
     "output_type": "stream",
     "text": [
      "Accuracy: 0.175\n"
     ]
    }
   ],
   "source": [
    "print(\"Accuracy:\",metrics.accuracy_score(test_y, y_pred_2))"
   ]
  },
  {
   "cell_type": "markdown",
   "id": "ff23e5a3",
   "metadata": {},
   "source": [
    "Precision and Recall"
   ]
  },
  {
   "cell_type": "code",
   "execution_count": 33,
   "id": "81d5d5c6",
   "metadata": {},
   "outputs": [
    {
     "data": {
      "text/plain": [
       "0.16393420388927157"
      ]
     },
     "execution_count": 33,
     "metadata": {},
     "output_type": "execute_result"
    }
   ],
   "source": [
    "precision_score(test_y, y_pred_2, average='macro')"
   ]
  },
  {
   "cell_type": "markdown",
   "id": "b9504d01",
   "metadata": {},
   "source": [
    "Recall"
   ]
  },
  {
   "cell_type": "code",
   "execution_count": 34,
   "id": "4c38314c",
   "metadata": {},
   "outputs": [
    {
     "data": {
      "text/plain": [
       "0.175"
      ]
     },
     "execution_count": 34,
     "metadata": {},
     "output_type": "execute_result"
    }
   ],
   "source": [
    "recall_score(test_y, y_pred_2, average='micro')"
   ]
  },
  {
   "cell_type": "markdown",
   "id": "40dd1e7f",
   "metadata": {},
   "source": [
    "F1 Score"
   ]
  },
  {
   "cell_type": "code",
   "execution_count": 35,
   "id": "8323206d",
   "metadata": {},
   "outputs": [
    {
     "data": {
      "text/plain": [
       "0.175"
      ]
     },
     "execution_count": 35,
     "metadata": {},
     "output_type": "execute_result"
    }
   ],
   "source": [
    "f1_score(test_y, y_pred_2, average='micro')\n"
   ]
  },
  {
   "cell_type": "markdown",
   "id": "6acf0f57",
   "metadata": {},
   "source": [
    "Selecting the best 5 features per class"
   ]
  },
  {
   "cell_type": "code",
   "execution_count": 36,
   "id": "75334939",
   "metadata": {},
   "outputs": [
    {
     "name": "stdout",
     "output_type": "stream",
     "text": [
      "      Specs       Score\n",
      "9122   9122  346.028062\n",
      "9123   9123  344.975553\n",
      "9121   9121  343.666246\n",
      "9214   9214  341.153365\n",
      "9139   9139  340.264556\n",
      "9160   9160  340.188378\n",
      "9120   9120  339.776143\n",
      "9169   9169  339.616227\n",
      "9213   9213  339.530146\n",
      "9138   9138  339.481696\n"
     ]
    }
   ],
   "source": [
    "#apply SelectKBest class to extract top 5 best features\n",
    "bestfeatures5 = SelectKBest(score_func=chi2, k=50).fit(X,train_y)\n",
    "dfscores5 = pd.DataFrame(bestfeatures5.scores_)\n",
    "dfcolumns5 = pd.DataFrame(X.columns)\n",
    "#concat two dataframes for better visualization \n",
    "featureScores5 = pd.concat([dfcolumns5,dfscores5],axis=1)\n",
    "featureScores5.columns = ['Specs','Score']  #naming the dataframe columns\n",
    "print(featureScores5.nlargest(10,'Score'))  #print 10 best features"
   ]
  },
  {
   "cell_type": "code",
   "execution_count": 37,
   "id": "78d1555c",
   "metadata": {},
   "outputs": [
    {
     "name": "stdout",
     "output_type": "stream",
     "text": [
      "[[0.63921569 0.6745098  0.69411765 ... 0.63137255 0.56078431 0.54117647]\n",
      " [0.44705882 0.50196078 0.51372549 ... 0.62352941 0.61568627 0.62745098]\n",
      " [0.70588235 0.70980392 0.71372549 ... 0.64705882 0.6627451  0.65490196]\n",
      " ...\n",
      " [0.49411765 0.30196078 0.15294118 ... 0.48235294 0.49411765 0.48627451]\n",
      " [0.         0.         0.         ... 0.         0.         0.        ]\n",
      " [0.50588235 0.5254902  0.54117647 ... 0.55686275 0.56078431 0.54509804]] (8000, 50)\n"
     ]
    }
   ],
   "source": [
    "X_train_best_5 = bestfeatures5.transform(X)\n",
    "X_test_best_5 = bestfeatures5.transform(x)\n",
    "print(X_train_best_5, X_train_best_5.shape)"
   ]
  },
  {
   "cell_type": "markdown",
   "id": "25e9b3c0",
   "metadata": {},
   "source": [
    "### Using Naive Bayes Classifier"
   ]
  },
  {
   "cell_type": "code",
   "execution_count": 38,
   "id": "318f62f6",
   "metadata": {},
   "outputs": [],
   "source": [
    "gnb = GaussianNB()\n",
    "gnb.fit(X_train_best_5, train_y)\n",
    "y_pred_5 = gnb.predict(X_test_best_5)"
   ]
  },
  {
   "cell_type": "code",
   "execution_count": 39,
   "id": "a4d2f8c4",
   "metadata": {},
   "outputs": [
    {
     "name": "stdout",
     "output_type": "stream",
     "text": [
      "Accuracy: 0.1786\n"
     ]
    }
   ],
   "source": [
    "print(\"Accuracy:\",metrics.accuracy_score(test_y, y_pred_5))"
   ]
  },
  {
   "cell_type": "markdown",
   "id": "f83e2503",
   "metadata": {},
   "source": [
    "Precision and Recall"
   ]
  },
  {
   "cell_type": "code",
   "execution_count": 40,
   "id": "c60fb6e0",
   "metadata": {},
   "outputs": [
    {
     "data": {
      "text/plain": [
       "0.17092581068626062"
      ]
     },
     "execution_count": 40,
     "metadata": {},
     "output_type": "execute_result"
    }
   ],
   "source": [
    "precision_score(test_y, y_pred_5, average='macro')"
   ]
  },
  {
   "cell_type": "markdown",
   "id": "f7675514",
   "metadata": {},
   "source": [
    "Recall"
   ]
  },
  {
   "cell_type": "code",
   "execution_count": 41,
   "id": "626ffac3",
   "metadata": {},
   "outputs": [
    {
     "data": {
      "text/plain": [
       "0.1786"
      ]
     },
     "execution_count": 41,
     "metadata": {},
     "output_type": "execute_result"
    }
   ],
   "source": [
    "recall_score(test_y, y_pred_5, average='micro')"
   ]
  },
  {
   "cell_type": "markdown",
   "id": "a4c856ae",
   "metadata": {},
   "source": [
    "F1 Score"
   ]
  },
  {
   "cell_type": "code",
   "execution_count": 42,
   "id": "d988b88e",
   "metadata": {},
   "outputs": [
    {
     "data": {
      "text/plain": [
       "0.1786"
      ]
     },
     "execution_count": 42,
     "metadata": {},
     "output_type": "execute_result"
    }
   ],
   "source": [
    "f1_score(test_y, y_pred_5, average='micro')"
   ]
  },
  {
   "cell_type": "markdown",
   "id": "32abd9cc",
   "metadata": {},
   "source": [
    "Selecting The Best Ten Features"
   ]
  },
  {
   "cell_type": "code",
   "execution_count": 43,
   "id": "a4a377ea",
   "metadata": {},
   "outputs": [
    {
     "name": "stdout",
     "output_type": "stream",
     "text": [
      "      Specs       Score\n",
      "9122   9122  346.028062\n",
      "9123   9123  344.975553\n",
      "9121   9121  343.666246\n",
      "9214   9214  341.153365\n",
      "9139   9139  340.264556\n",
      "9160   9160  340.188378\n",
      "9120   9120  339.776143\n",
      "9169   9169  339.616227\n",
      "9213   9213  339.530146\n",
      "9138   9138  339.481696\n",
      "9162   9162  339.106586\n"
     ]
    }
   ],
   "source": [
    "#apply SelectKBest class to extract top 10 best features\n",
    "bestfeatures10 = SelectKBest(score_func=chi2, k=100).fit(X,train_y)\n",
    "dfscores = pd.DataFrame(bestfeatures10.scores_)\n",
    "dfcolumns = pd.DataFrame(X.columns)\n",
    "#concat two dataframes for better visualization \n",
    "featureScores = pd.concat([dfcolumns,dfscores],axis=1)\n",
    "featureScores.columns = ['Specs','Score']  #naming the dataframe columns\n",
    "print(featureScores.nlargest(11,'Score'))  #print 10 best features"
   ]
  },
  {
   "cell_type": "code",
   "execution_count": 44,
   "id": "a461b0f5",
   "metadata": {},
   "outputs": [
    {
     "name": "stdout",
     "output_type": "stream",
     "text": [
      "[[0.70196078 0.63921569 0.59215686 ... 0.56078431 0.54117647 0.51372549]\n",
      " [0.70588235 0.44705882 0.43921569 ... 0.61568627 0.62745098 0.56078431]\n",
      " [0.70980392 0.70588235 0.70980392 ... 0.6627451  0.65490196 0.65490196]\n",
      " ...\n",
      " [0.50980392 0.49411765 0.4745098  ... 0.49411765 0.48627451 0.51764706]\n",
      " [0.         0.         0.         ... 0.         0.         0.        ]\n",
      " [0.51372549 0.50588235 0.50196078 ... 0.56078431 0.54509804 0.64313725]] (8000, 100)\n"
     ]
    }
   ],
   "source": [
    "X_train_best_10 = bestfeatures10.transform(X)\n",
    "X_test_best_10 = bestfeatures10.transform(x)\n",
    "print(X_train_best_10, X_train_best_10.shape)"
   ]
  },
  {
   "cell_type": "code",
   "execution_count": 45,
   "id": "29b5751c",
   "metadata": {},
   "outputs": [],
   "source": [
    "gnb = GaussianNB()\n",
    "gnb.fit(X_train_best_10, train_y)\n",
    "y_pred_10 = gnb.predict(X_test_best_10)\n"
   ]
  },
  {
   "cell_type": "code",
   "execution_count": 46,
   "id": "5f7abb97",
   "metadata": {},
   "outputs": [
    {
     "name": "stdout",
     "output_type": "stream",
     "text": [
      "Accuracy: 0.178\n"
     ]
    }
   ],
   "source": [
    "print(\"Accuracy:\",metrics.accuracy_score(test_y, y_pred_10))"
   ]
  },
  {
   "cell_type": "markdown",
   "id": "f744d571",
   "metadata": {},
   "source": [
    "Precision and Recall"
   ]
  },
  {
   "cell_type": "code",
   "execution_count": 47,
   "id": "2da545c6",
   "metadata": {},
   "outputs": [
    {
     "data": {
      "text/plain": [
       "0.178"
      ]
     },
     "execution_count": 47,
     "metadata": {},
     "output_type": "execute_result"
    }
   ],
   "source": [
    "precision_score(test_y, y_pred_10, average='micro')"
   ]
  },
  {
   "cell_type": "markdown",
   "id": "19e6ba9c",
   "metadata": {},
   "source": [
    "Recall"
   ]
  },
  {
   "cell_type": "code",
   "execution_count": 48,
   "id": "95889964",
   "metadata": {},
   "outputs": [
    {
     "data": {
      "text/plain": [
       "0.178"
      ]
     },
     "execution_count": 48,
     "metadata": {},
     "output_type": "execute_result"
    }
   ],
   "source": [
    "recall_score(test_y, y_pred_10, average='micro')"
   ]
  },
  {
   "cell_type": "code",
   "execution_count": 49,
   "id": "a895ff83",
   "metadata": {},
   "outputs": [
    {
     "data": {
      "text/plain": [
       "0.178"
      ]
     },
     "execution_count": 49,
     "metadata": {},
     "output_type": "execute_result"
    }
   ],
   "source": [
    "f1_score(test_y, y_pred_10, average='micro')"
   ]
  },
  {
   "cell_type": "markdown",
   "id": "0a3ed264",
   "metadata": {},
   "source": [
    "# Clustering"
   ]
  },
  {
   "cell_type": "markdown",
   "id": "d09cccb5",
   "metadata": {},
   "source": [
    "## Introducing K-means\n",
    "### Principal Component Analysis\n",
    "Before applying k-means clustering, the data dimension is reduced using principle component analysis with the n_components set to 2 so that it can be visualized on a 2D graph."
   ]
  },
  {
   "cell_type": "code",
   "execution_count": null,
   "id": "a3c9a4b6",
   "metadata": {},
   "outputs": [],
   "source": [
    "from sklearn.decomposition import PCA\n",
    "\n",
    "pca = PCA(n_components=2)\n",
    "trainX2D = pca.fit_transform(train_images)\n",
    "print(trainX2D, trainX2D.shape)"
   ]
  },
  {
   "cell_type": "markdown",
   "id": "a3fe6b63",
   "metadata": {},
   "source": [
    "The data was plotted in 2 dimensions in order to visualize it"
   ]
  },
  {
   "cell_type": "code",
   "execution_count": 89,
   "id": "d9ab1152",
   "metadata": {},
   "outputs": [
    {
     "data": {
      "image/png": "[encoded data removed]",
      "text/plain": [
       "<Figure size 720x288 with 1 Axes>"
      ]
     },
     "metadata": {
      "needs_background": "light"
     },
     "output_type": "display_data"
    }
   ],
   "source": [
    "def plot_clusters(X, y=None):\n",
    "    plt.scatter(X[:, 0], X[:, 1], c=y, s=1)\n",
    "    plt.xlabel(\"$x_1$\", fontsize=14)\n",
    "    plt.ylabel(\"$x_2$\", fontsize=14, rotation=0)\n",
    "plt.figure(figsize=(10, 4))\n",
    "plot_clusters(trainX2D)\n",
    "plt.show()"
   ]
  },
  {
   "cell_type": "markdown",
   "id": "a3a1c709",
   "metadata": {},
   "source": [
    "### Optimal Number of Clusters"
   ]
  },
  {
   "cell_type": "markdown",
   "id": "f9679250",
   "metadata": {},
   "source": [
    "To find the number of clusters, the elbow method was used. In the code below, the data was fitted into several models and the inertia for each clusterer plotted against the number of clusters. "
   ]
  },
  {
   "cell_type": "code",
   "execution_count": 53,
   "id": "19e87799",
   "metadata": {},
   "outputs": [],
   "source": [
    "from sklearn.cluster import KMeans\n",
    "\n",
    "kmeans_per_k = [KMeans(n_clusters=k, random_state=42).fit(trainX2D)\n",
    "                for k in range(1, 20)]\n",
    "inertias = [model.inertia_ for model in kmeans_per_k]"
   ]
  },
  {
   "cell_type": "code",
   "execution_count": 21,
   "id": "41a266a9",
   "metadata": {},
   "outputs": [
    {
     "data": {
      "text/plain": [
       "[1528962.915200128,\n",
       " 920460.9942853844,\n",
       " 680789.330637981,\n",
       " 507617.85945282987,\n",
       " 428425.4442485668,\n",
       " 362124.3581138189,\n",
       " 310842.654955374,\n",
       " 276500.6268877866,\n",
       " 246572.8653760112,\n",
       " 224941.73927229625,\n",
       " 205388.29610690844,\n",
       " 188802.50821245025,\n",
       " 176049.27460663303,\n",
       " 161901.3741906133,\n",
       " 151298.432248019,\n",
       " 143331.2812653276,\n",
       " 135329.18383385972,\n",
       " 127505.4059994835,\n",
       " 121470.35240008934]"
      ]
     },
     "execution_count": 21,
     "metadata": {},
     "output_type": "execute_result"
    }
   ],
   "source": [
    "inertias"
   ]
  },
  {
   "cell_type": "code",
   "execution_count": 23,
   "id": "286f86d2",
   "metadata": {},
   "outputs": [
    {
     "data": {
      "image/png": "[encoded data removed]",
      "text/plain": [
       "<Figure size 576x504 with 1 Axes>"
      ]
     },
     "metadata": {
      "needs_background": "light"
     },
     "output_type": "display_data"
    }
   ],
   "source": [
    "plt.figure(figsize=(8, 7))\n",
    "plt.plot(range(1, 20), inertias, \"bo-\")\n",
    "plt.xlabel(\"$k$\", fontsize=14)\n",
    "plt.ylabel(\"Inertia\", fontsize=14)\n",
    "plt.axis([1, 10.5, 0, 2000000])\n",
    "plt.show()"
   ]
  },
  {
   "cell_type": "markdown",
   "id": "bbd31af0",
   "metadata": {},
   "source": [
    "For the sake of comparison, the same procedure as above was applied to the original data(with 9216 dimensions)"
   ]
  },
  {
   "cell_type": "code",
   "execution_count": 24,
   "id": "ae276d7b",
   "metadata": {},
   "outputs": [
    {
     "data": {
      "text/plain": [
       "[4651481.972466642,\n",
       " 4042598.6062777704,\n",
       " 3802037.84734913,\n",
       " 3627464.994273644,\n",
       " 3489077.219853462,\n",
       " 3404724.019524816,\n",
       " 3335596.296156053,\n",
       " 3283843.191101059,\n",
       " 3238531.5400846335,\n",
       " 3201206.2145019025,\n",
       " 3167456.1303968024,\n",
       " 3138904.2122509982,\n",
       " 3111860.544288165,\n",
       " 3092811.9361409345,\n",
       " 3066229.113450911,\n",
       " 3047446.9901415636,\n",
       " 3032964.756769674,\n",
       " 3016854.4180584024,\n",
       " 3002985.634006284]"
      ]
     },
     "execution_count": 24,
     "metadata": {},
     "output_type": "execute_result"
    }
   ],
   "source": [
    "kmeans_per_k = [KMeans(n_clusters=k, random_state=42).fit(train_images)\n",
    "                for k in range(1, 20)]\n",
    "inertias = [model.inertia_ for model in kmeans_per_k]\n",
    "inertias"
   ]
  },
  {
   "cell_type": "code",
   "execution_count": 34,
   "id": "ef7b45b6",
   "metadata": {},
   "outputs": [
    {
     "data": {
      "image/png": "[encoded data removed]",
      "text/plain": [
       "<Figure size 576x504 with 1 Axes>"
      ]
     },
     "metadata": {
      "needs_background": "light"
     },
     "output_type": "display_data"
    }
   ],
   "source": [
    "plt.figure(figsize=(8, 7))\n",
    "plt.plot(range(1, 20), inertias, \"bo-\")\n",
    "plt.xlabel(\"$k$\", fontsize=14)\n",
    "plt.ylabel(\"Inertia\", fontsize=14)\n",
    "plt.axis([1, 10.5, 0, 5000000])\n",
    "plt.show()"
   ]
  },
  {
   "cell_type": "markdown",
   "id": "90590785",
   "metadata": {},
   "source": [
    "The k-means algorithm was then applied to the data using k = 10"
   ]
  },
  {
   "cell_type": "code",
   "execution_count": 84,
   "id": "02a88951",
   "metadata": {},
   "outputs": [],
   "source": [
    "k = 10\n",
    "kmeans = KMeans(n_clusters=k, random_state=42)\n",
    "y_pred_kmeans10 = kmeans.fit_predict(train_images)"
   ]
  },
  {
   "cell_type": "markdown",
   "id": "7d951cc0",
   "metadata": {},
   "source": [
    "Convert labels in train_y to 0-9"
   ]
  },
  {
   "cell_type": "code",
   "execution_count": 82,
   "id": "ba5993ac",
   "metadata": {},
   "outputs": [],
   "source": [
    "y_train = train_y-1"
   ]
  },
  {
   "cell_type": "markdown",
   "id": "a1f7b03e",
   "metadata": {},
   "source": [
    "Compare labels with that of actual dataset"
   ]
  },
  {
   "cell_type": "code",
   "execution_count": 85,
   "id": "f1725c87",
   "metadata": {},
   "outputs": [
    {
     "name": "stdout",
     "output_type": "stream",
     "text": [
      "Accuracy: 0.123125\n"
     ]
    }
   ],
   "source": [
    "print(\"Accuracy:\",metrics.accuracy_score(y_train, y_pred_kmeans10))"
   ]
  },
  {
   "cell_type": "code",
   "execution_count": 72,
   "id": "da4cc73f",
   "metadata": {},
   "outputs": [
    {
     "data": {
      "text/plain": [
       "array([[108,  38,  45,  16, 219, 123,  43, 120,  53,  35],\n",
       "       [172,   0,  53,  58,  82, 155, 180,  36,  25,  39],\n",
       "       [ 22,  61,  62, 151,   7,  44,  51,  21, 138, 243],\n",
       "       [ 88,   1, 129, 113,  19, 172, 183,  24,  32,  39],\n",
       "       [117,   0, 164,  67,  44, 138, 169,  37,  42,  22],\n",
       "       [142,   1, 104,  78,  51, 150, 177,  23,  26,  48],\n",
       "       [129,   3, 137,  93,  22,  85, 238,  21,  47,  25],\n",
       "       [136,   0,  80,  98,  14, 135, 240,  22,  47,  28],\n",
       "       [ 17, 213,  24,  23,  26,  71,  25, 207, 103,  91],\n",
       "       [ 31, 154,  34,  79,  16,  33,  68,  77, 163, 145]], dtype=int64)"
      ]
     },
     "execution_count": 72,
     "metadata": {},
     "output_type": "execute_result"
    }
   ],
   "source": [
    "confusion_matrix(train_y, y_pred_kmeans10)"
   ]
  },
  {
   "cell_type": "markdown",
   "id": "04638448",
   "metadata": {},
   "source": [
    "Use k means on test set"
   ]
  },
  {
   "cell_type": "code",
   "execution_count": 106,
   "id": "51df4b21",
   "metadata": {},
   "outputs": [],
   "source": [
    "k = 10\n",
    "kmeans = KMeans(n_clusters=k, random_state=42)\n",
    "y_pred_kmeans_test = kmeans.fit_predict(test_images)"
   ]
  },
  {
   "cell_type": "markdown",
   "id": "024198e7",
   "metadata": {},
   "source": [
    "Compare test set with predicted clusters"
   ]
  },
  {
   "cell_type": "code",
   "execution_count": 88,
   "id": "6093e9c7",
   "metadata": {},
   "outputs": [
    {
     "name": "stdout",
     "output_type": "stream",
     "text": [
      "Accuracy: 0.066\n"
     ]
    }
   ],
   "source": [
    "y_test = test_y-1\n",
    "print(\"Accuracy:\", metrics.accuracy_score(y_test, y_pred_kmeans_test))"
   ]
  },
  {
   "cell_type": "markdown",
   "id": "383a2757",
   "metadata": {},
   "source": [
    "Principal Component Analysis was applied to the test images in order to visualize it in 2D"
   ]
  },
  {
   "cell_type": "code",
   "execution_count": 74,
   "id": "a06beb94",
   "metadata": {},
   "outputs": [
    {
     "name": "stdout",
     "output_type": "stream",
     "text": [
      "[[ 1.69106706  1.79605286]\n",
      " [ 2.43145634  8.59533047]\n",
      " [-0.51624801  4.84360525]\n",
      " ...\n",
      " [ 2.63185828  2.97734612]\n",
      " [ 3.06007258 -1.72946074]\n",
      " [ 9.25338122 15.98897746]] (5000, 2)\n"
     ]
    }
   ],
   "source": [
    "pca2 = PCA(n_components=2)\n",
    "testX2D = pca2.fit_transform(test_images)\n",
    "print(testX2D, testX2D.shape)"
   ]
  },
  {
   "cell_type": "code",
   "execution_count": 90,
   "id": "1b72dfbb",
   "metadata": {},
   "outputs": [
    {
     "data": {
      "image/png": "[encoded data removed]",
      "text/plain": [
       "<Figure size 720x288 with 1 Axes>"
      ]
     },
     "metadata": {
      "needs_background": "light"
     },
     "output_type": "display_data"
    }
   ],
   "source": [
    "plt.figure(figsize=(10, 4))\n",
    "plot_clusters(testX2D)\n",
    "plt.show()"
   ]
  },
  {
   "cell_type": "code",
   "execution_count": 96,
   "id": "072c2288",
   "metadata": {},
   "outputs": [],
   "source": [
    "k = 10\n",
    "kmeans = KMeans(n_clusters=k, random_state=42)\n",
    "y_pred_kmeans = kmeans.fit_predict(trainX2D)"
   ]
  },
  {
   "cell_type": "code",
   "execution_count": 97,
   "id": "021a3f9a",
   "metadata": {},
   "outputs": [],
   "source": [
    "X = trainX2D\n",
    "def plot_data(X):\n",
    "    plt.plot(X[:, 0], X[:, 1], 'k.', markersize=2)\n",
    "\n",
    "def plot_centroids(centroids, weights=None, circle_color='w', cross_color='k'):\n",
    "    if weights is not None:\n",
    "        centroids = centroids[weights > weights.max() / 10]\n",
    "    plt.scatter(centroids[:, 0], centroids[:, 1],\n",
    "                marker='o', s=30, linewidths=8,\n",
    "                color=circle_color, zorder=10, alpha=0.9)\n",
    "    plt.scatter(centroids[:, 0], centroids[:, 1],\n",
    "                marker='x', s=50, linewidths=50,\n",
    "                color=cross_color, zorder=11, alpha=1)\n",
    "\n",
    "def plot_decision_boundaries(clusterer, X, resolution=1000, show_centroids=True,\n",
    "                             show_xlabels=True, show_ylabels=True):\n",
    "    mins = X.min(axis=0) - 0.1\n",
    "    maxs = X.max(axis=0) + 0.1\n",
    "    xx, yy = np.meshgrid(np.linspace(mins[0], maxs[0], resolution),\n",
    "                         np.linspace(mins[1], maxs[1], resolution))\n",
    "    Z = clusterer.predict(np.c_[xx.ravel(), yy.ravel()])\n",
    "    Z = Z.reshape(xx.shape)\n",
    "\n",
    "    plt.contourf(Z, extent=(mins[0], maxs[0], mins[1], maxs[1]),\n",
    "                cmap=\"Pastel2\")\n",
    "    plt.contour(Z, extent=(mins[0], maxs[0], mins[1], maxs[1]),\n",
    "                linewidths=1, colors='k')\n",
    "    plot_data(X)\n",
    "    if show_centroids:\n",
    "        plot_centroids(clusterer.cluster_centers_)\n",
    "\n",
    "    if show_xlabels:\n",
    "        plt.xlabel(\"$x_1$\", fontsize=14)\n",
    "    else:\n",
    "        plt.tick_params(labelbottom=False)\n",
    "    if show_ylabels:\n",
    "        plt.ylabel(\"$x_2$\", fontsize=14, rotation=0)\n",
    "    else:\n",
    "        plt.tick_params(labelleft=False) "
   ]
  },
  {
   "cell_type": "code",
   "execution_count": 98,
   "id": "b01aba5f",
   "metadata": {},
   "outputs": [
    {
     "data": {
      "image/png": "[encoded data removed]",
      "text/plain": [
       "<Figure size 576x288 with 1 Axes>"
      ]
     },
     "metadata": {
      "needs_background": "light"
     },
     "output_type": "display_data"
    }
   ],
   "source": [
    "plt.figure(figsize=(8, 4))\n",
    "plot_decision_boundaries(kmeans, X)\n",
    "plt.show()"
   ]
  },
  {
   "cell_type": "markdown",
   "id": "ef47fd34",
   "metadata": {},
   "source": [
    "### Performance Evaluation"
   ]
  },
  {
   "cell_type": "markdown",
   "id": "a31a7ceb",
   "metadata": {},
   "source": [
    "Precision"
   ]
  },
  {
   "cell_type": "code",
   "execution_count": 111,
   "id": "2c710ecf",
   "metadata": {},
   "outputs": [
    {
     "data": {
      "text/plain": [
       "0.066"
      ]
     },
     "execution_count": 111,
     "metadata": {},
     "output_type": "execute_result"
    }
   ],
   "source": [
    "precision_score(y_test, y_pred_kmeans_test, average='micro')"
   ]
  },
  {
   "cell_type": "markdown",
   "id": "b4609a0b",
   "metadata": {},
   "source": [
    "Recall"
   ]
  },
  {
   "cell_type": "code",
   "execution_count": 112,
   "id": "23dfdd3c",
   "metadata": {},
   "outputs": [
    {
     "data": {
      "text/plain": [
       "0.066"
      ]
     },
     "execution_count": 112,
     "metadata": {},
     "output_type": "execute_result"
    }
   ],
   "source": [
    "recall_score(y_test, y_pred_kmeans_test, average='micro')"
   ]
  },
  {
   "cell_type": "markdown",
   "id": "928795e9",
   "metadata": {},
   "source": [
    "F1 Score"
   ]
  },
  {
   "cell_type": "code",
   "execution_count": 113,
   "id": "38de970b",
   "metadata": {},
   "outputs": [
    {
     "data": {
      "text/plain": [
       "0.066"
      ]
     },
     "execution_count": 113,
     "metadata": {},
     "output_type": "execute_result"
    }
   ],
   "source": [
    "f1_score(y_test, y_pred_kmeans_test, average='micro')"
   ]
  },
  {
   "cell_type": "markdown",
   "id": "50891777",
   "metadata": {},
   "source": [
    "### Making conclusions"
   ]
  },
  {
   "cell_type": "markdown",
   "id": "29166b70",
   "metadata": {},
   "source": [
    "The optimal number of clusters using the elbow method was the same for both 2 dimensional data and the original data. the elbow appeared to be at k=2. After reducing the dimensionality of the images and applying k-means of k=10 with 1, 2 and 3 iterations, the images appear to be normally distributed. There aren't clear distinctions between clusters.\n",
    "From using inertia, the best model seem to be the one with k = 2. However, our data has 10 classes. The model with k=10 was now used to predict and compare performances with the actual data\n",
    "In conclusion, because the data normally distributed and seems to have a single center for the entire data, k-means is not a good classifier."
   ]
  },
  {
   "cell_type": "markdown",
   "id": "e59a2d67",
   "metadata": {},
   "source": [
    "## Beyond K-means: Applying GMM"
   ]
  },
  {
   "cell_type": "markdown",
   "id": "a92e1249",
   "metadata": {},
   "source": [
    "Gaussian Mixture Model was applied to the data "
   ]
  },
  {
   "cell_type": "code",
   "execution_count": 103,
   "id": "6652f439",
   "metadata": {},
   "outputs": [
    {
     "data": {
      "text/plain": [
       "<matplotlib.collections.PathCollection at 0x608a9640>"
      ]
     },
     "execution_count": 103,
     "metadata": {},
     "output_type": "execute_result"
    },
    {
     "data": {
      "image/png": "[encoded data removed]",
      "text/plain": [
       "<Figure size 432x288 with 1 Axes>"
      ]
     },
     "metadata": {
      "needs_background": "light"
     },
     "output_type": "display_data"
    }
   ],
   "source": [
    "from sklearn.mixture import GaussianMixture as GMM\n",
    "gmm = GMM(n_components = 10).fit(trainX2D)\n",
    "y_predict_gmm=gmm.predict(trainX2D)\n",
    "plt.scatter(trainX2D[:, 0], trainX2D[:, 1], c=y_predict_gmm, s=40)"
   ]
  },
  {
   "cell_type": "code",
   "execution_count": 104,
   "id": "a4d82bb6",
   "metadata": {},
   "outputs": [
    {
     "data": {
      "text/plain": [
       "<matplotlib.collections.PathCollection at 0x60909c10>"
      ]
     },
     "execution_count": 104,
     "metadata": {},
     "output_type": "execute_result"
    },
    {
     "data": {
      "image/png": "[encoded data removed]",
      "text/plain": [
       "<Figure size 432x288 with 1 Axes>"
      ]
     },
     "metadata": {
      "needs_background": "light"
     },
     "output_type": "display_data"
    }
   ],
   "source": [
    "gmm2 = GMM(n_components = 10).fit(testX2D)\n",
    "y_predict_gmm=gmm2.predict(testX2D)\n",
    "plt.scatter(testX2D[:, 0], testX2D[:, 1], c=y_predict_gmm, s=40)"
   ]
  },
  {
   "cell_type": "markdown",
   "id": "df0cb298",
   "metadata": {},
   "source": [
    "### Performance Evaluation"
   ]
  },
  {
   "cell_type": "code",
   "execution_count": 118,
   "id": "f0ae5b3f",
   "metadata": {},
   "outputs": [
    {
     "data": {
      "text/plain": [
       "array([[ 28,  94,  30,  22,  85,  47,  92,  83,  13,   6],\n",
       "       [ 18,  67,  96,   5, 111,  94,  27,  30,  15,  37],\n",
       "       [ 17,   8,  79,  70,  15,  62,  20,   2, 138,  89],\n",
       "       [ 42,  35, 116,  12,  97, 114,  19,   9,  20,  36],\n",
       "       [ 59,  39,  92,   7, 125, 106,  13,  12,  17,  30],\n",
       "       [ 57,  49, 107,  11,  98, 100,  18,  15,  20,  25],\n",
       "       [ 63,  38, 114,   7,  90, 111,  15,   7,  26,  29],\n",
       "       [ 25,  25, 102,   7, 114, 140,  20,   4,  37,  26],\n",
       "       [  3,  22,  33, 109,  40,  84, 132,   6,  63,   8],\n",
       "       [ 14,   5,  42, 119,  25,  91,  48,   6, 107,  43]], dtype=int64)"
      ]
     },
     "execution_count": 118,
     "metadata": {},
     "output_type": "execute_result"
    }
   ],
   "source": [
    "confusion_matrix(y_test, y_predict_gmm)"
   ]
  },
  {
   "cell_type": "markdown",
   "id": "27f412ac",
   "metadata": {},
   "source": [
    "Precision"
   ]
  },
  {
   "cell_type": "code",
   "execution_count": 115,
   "id": "413000af",
   "metadata": {},
   "outputs": [
    {
     "data": {
      "text/plain": [
       "0.1072"
      ]
     },
     "execution_count": 115,
     "metadata": {},
     "output_type": "execute_result"
    }
   ],
   "source": [
    "precision_score(y_test, y_predict_gmm, average='micro')"
   ]
  },
  {
   "cell_type": "markdown",
   "id": "1fc5ae05",
   "metadata": {},
   "source": [
    "Recall"
   ]
  },
  {
   "cell_type": "code",
   "execution_count": 116,
   "id": "28c36cce",
   "metadata": {},
   "outputs": [
    {
     "data": {
      "text/plain": [
       "0.1072"
      ]
     },
     "execution_count": 116,
     "metadata": {},
     "output_type": "execute_result"
    }
   ],
   "source": [
    "recall_score(y_test, y_predict_gmm, average='micro')"
   ]
  },
  {
   "cell_type": "markdown",
   "id": "6ae79009",
   "metadata": {},
   "source": [
    "F1 Score"
   ]
  },
  {
   "cell_type": "code",
   "execution_count": null,
   "id": "20cad859",
   "metadata": {},
   "outputs": [],
   "source": [
    "f1_score(y_test, y_predict_gmm, average='micro')"
   ]
  },
  {
   "cell_type": "markdown",
   "id": "b022559e",
   "metadata": {},
   "source": [
    "### Making Conclusions"
   ]
  },
  {
   "cell_type": "markdown",
   "id": "b7692297",
   "metadata": {},
   "source": [
    "The GMM also performed worse than the Naive Bayes Classifiers. It is obvious that K-means and GMM are more suited to data with different center points but as observed above, this data is centered mainly around a single point."
   ]
  },
  {
   "cell_type": "markdown",
   "id": "d7c9c166",
   "metadata": {},
   "source": [
    "# Supervised Learning: Generalisation and Overfitting; Decision Trees"
   ]
  },
  {
   "cell_type": "code",
   "execution_count": null,
   "id": "56b932d2",
   "metadata": {},
   "outputs": [],
   "source": []
  },
  {
   "cell_type": "code",
   "execution_count": 37,
   "id": "b76cd800",
   "metadata": {},
   "outputs": [
    {
     "data": {
      "text/plain": [
       "[4651481.972466642,\n",
       " 4042598.6062777704,\n",
       " 3802037.84734913,\n",
       " 3627464.9942736435,\n",
       " 3489077.219853462,\n",
       " 3404724.019524816,\n",
       " 3335596.296156053,\n",
       " 3283843.1911010584,\n",
       " 3238531.5400846335]"
      ]
     },
     "execution_count": 37,
     "metadata": {},
     "output_type": "execute_result"
    }
   ],
   "source": [
    "inertias"
   ]
  },
  {
   "cell_type": "code",
   "execution_count": 36,
   "id": "c5e462ac",
   "metadata": {},
   "outputs": [
    {
     "data": {
      "image/png": "[encoded data removed]",
      "text/plain": [
       "<Figure size 576x252 with 1 Axes>"
      ]
     },
     "metadata": {
      "needs_background": "light"
     },
     "output_type": "display_data"
    }
   ],
   "source": [
    "plt.figure(figsize=(8, 7))\n",
    "plt.plot(range(1, 20), inertias, \"bo-\")\n",
    "plt.xlabel(\"$k$\", fontsize=14)\n",
    "plt.ylabel(\"Inertia\", fontsize=14)\n",
    "plt.axis([1, 10.5, 0, 470000])\n",
    "plt.show()"
   ]
  },
  {
   "cell_type": "markdown",
   "id": "c203a1b2",
   "metadata": {},
   "source": [
    "### Making Conclusions"
   ]
  },
  {
   "cell_type": "code",
   "execution_count": null,
   "id": "48b35247",
   "metadata": {},
   "outputs": [],
   "source": []
  },
  {
   "cell_type": "code",
   "execution_count": null,
   "id": "9946a5b6",
   "metadata": {},
   "outputs": [],
   "source": []
  },
  {
   "cell_type": "code",
   "execution_count": null,
   "id": "39153fb9",
   "metadata": {},
   "outputs": [],
   "source": []
  },
  {
   "cell_type": "code",
   "execution_count": null,
   "id": "dafabf6d",
   "metadata": {},
   "outputs": [],
   "source": []
  },
  {
   "cell_type": "markdown",
   "id": "5b37da7d",
   "metadata": {},
   "source": [
    "### Making Conclusions"
   ]
  },
  {
   "cell_type": "markdown",
   "id": "83a3305a",
   "metadata": {},
   "source": [
    "## Beyond K-Means: EM Algorithm"
   ]
  },
  {
   "cell_type": "markdown",
   "id": "df5b0344",
   "metadata": {},
   "source": [
    "### Making Conclusions"
   ]
  },
  {
   "cell_type": "markdown",
   "id": "85876101",
   "metadata": {},
   "source": [
    "# Neural Networks and Convolutional Neural Networks"
   ]
  },
  {
   "cell_type": "markdown",
   "id": "dfe2310e",
   "metadata": {},
   "source": [
    "# MSc Research Question"
   ]
  },
  {
   "cell_type": "markdown",
   "id": "e86c2386",
   "metadata": {},
   "source": [
    "## Defining The Question"
   ]
  },
  {
   "cell_type": "markdown",
   "id": "f74fa3de",
   "metadata": {},
   "source": []
  }
 ],
 "metadata": {
  "kernelspec": {
   "display_name": "Python 3",
   "language": "python",
   "name": "python3"
  },
  "language_info": {
   "codemirror_mode": {
    "name": "ipython",
    "version": 3
   },
   "file_extension": ".py",
   "mimetype": "text/x-python",
   "name": "python",
   "nbconvert_exporter": "python",
   "pygments_lexer": "ipython3",
   "version": "3.8.8"
  },
  "toc": {
   "base_numbering": 1,
   "nav_menu": {},
   "number_sections": true,
   "sideBar": true,
   "skip_h1_title": false,
   "title_cell": "Table of Contents",
   "title_sidebar": "Contents",
   "toc_cell": false,
   "toc_position": {},
   "toc_section_display": true,
   "toc_window_display": false
  }
 },
 "nbformat": 4,
 "nbformat_minor": 5
}
